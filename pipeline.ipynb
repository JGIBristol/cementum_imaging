{
 "cells": [
  {
   "cell_type": "markdown",
   "metadata": {},
   "source": [
    "Pipeline illustration\n",
    "====\n",
    "Starting from a masked image, show all the steps"
   ]
  },
  {
   "cell_type": "code",
   "execution_count": null,
   "metadata": {},
   "outputs": [],
   "source": [
    "%load_ext autoreload\n",
    "%autoreload 2"
   ]
  },
  {
   "cell_type": "code",
   "execution_count": null,
   "metadata": {},
   "outputs": [],
   "source": [
    "\"\"\"\n",
    "Read in and display an image + mask\n",
    "\n",
    "\"\"\"\n",
    "import pathlib\n",
    "import numpy as np\n",
    "import matplotlib.pyplot as plt\n",
    "\n",
    "img_index = \"0200\"\n",
    "\n",
    "data_dir = \"data/\"\n",
    "image_path = pathlib.Path(data_dir) / \"original cut\" / f\"{img_index}.tif\"\n",
    "mask_path = pathlib.Path(data_dir) / \"masks cut\" / f\"{img_index}.tif\"\n",
    "\n",
    "# Check that they exist\n",
    "assert image_path.exists(), image_path\n",
    "assert mask_path.exists(), mask_path\n",
    "\n",
    "raw_image = plt.imread(image_path)\n",
    "raw_mask = plt.imread(mask_path)"
   ]
  },
  {
   "cell_type": "code",
   "execution_count": null,
   "metadata": {},
   "outputs": [],
   "source": [
    "fig, axis = plt.subplots(1, 1, figsize=(10, 5))\n",
    "\n",
    "axis.imshow(raw_image, cmap=\"gray\")\n",
    "axis.imshow(raw_mask, alpha=0.5)\n",
    "\n",
    "axis.set_axis_off()"
   ]
  },
  {
   "cell_type": "code",
   "execution_count": null,
   "metadata": {},
   "outputs": [],
   "source": [
    "\"\"\"\n",
    "Straighten the image and mask\n",
    "\n",
    "This works by building two meshes of points: one that curves to follow the mask, and one that is straight\n",
    "We then find affine transformations that map the straight mesh to the curved mesh, and apply them to the image and mask\n",
    "\n",
    "see straighten_mesh.ipynb for more details\n",
    "\n",
    "\"\"\"\n",
    "from cementum import straighten  # This is my library of helper functions\n",
    "\n",
    "# We need to choose how many points we have on the left/inside/right of the mask\n",
    "n_y = 50  # How many points we have on the y-axis\n",
    "n_x = 5, 5, 5  # How many points we have to the left/inside/right of the mask\n",
    "\n",
    "curve_pts = straighten.mask_mesh(raw_mask, n_y, n_x)\n",
    "straight_pts = straighten.straight_mesh(raw_mask, n_y, n_x)"
   ]
  },
  {
   "cell_type": "code",
   "execution_count": null,
   "metadata": {},
   "outputs": [],
   "source": [
    "fig, axes = plt.subplots(1, 2, figsize=(10, 5))\n",
    "\n",
    "plot_kw = {\"marker\": \"o\", \"linestyle\": \"none\", \"markersize\": 2, \"color\": \"r\"}\n",
    "\n",
    "axes[0].imshow(raw_mask)\n",
    "axes[0].plot(curve_pts[:, 0], curve_pts[:, 1], **plot_kw)\n",
    "\n",
    "axes[1].plot(straight_pts[:, 0], straight_pts[:, 1], **plot_kw)\n",
    "\n",
    "for axis in axes:\n",
    "    axis.set_xticks([])\n",
    "    axis.set_yticks([])\n",
    "\n",
    "axes[0].set_title(\"Curved mesh\")\n",
    "axes[1].set_title(\"Straight mesh\")"
   ]
  },
  {
   "cell_type": "code",
   "execution_count": null,
   "metadata": {},
   "outputs": [],
   "source": []
  }
 ],
 "metadata": {
  "kernelspec": {
   "display_name": "tf2",
   "language": "python",
   "name": "python3"
  },
  "language_info": {
   "codemirror_mode": {
    "name": "ipython",
    "version": 3
   },
   "file_extension": ".py",
   "mimetype": "text/x-python",
   "name": "python",
   "nbconvert_exporter": "python",
   "pygments_lexer": "ipython3",
   "version": "3.9.18"
  }
 },
 "nbformat": 4,
 "nbformat_minor": 2
}
