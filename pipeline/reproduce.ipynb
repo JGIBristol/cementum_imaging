{
 "cells": [
  {
   "cell_type": "markdown",
   "metadata": {},
   "source": [
    "Reproduce Elis' work, for my understanding\n",
    "\n",
    "It looks like the three relevant bits of code happen in three steps:\n",
    "- Define the uNet\n",
    "- straighten the images\n",
    "- perform segmentation"
   ]
  },
  {
   "cell_type": "code",
   "execution_count": null,
   "metadata": {},
   "outputs": [],
   "source": [
    "%load_ext autoreload\n",
    "%autoreload 2"
   ]
  },
  {
   "cell_type": "code",
   "execution_count": null,
   "metadata": {},
   "outputs": [],
   "source": [
    "\"\"\"\n",
    "Define the uNet\n",
    "\n",
    "\"\"\"\n",
    "from cementum import unet\n",
    "\n",
    "model = unet.my_unet()"
   ]
  },
  {
   "cell_type": "code",
   "execution_count": null,
   "metadata": {},
   "outputs": [],
   "source": [
    "\"\"\"\n",
    "Resize the images for training\n",
    "\n",
    "\"\"\"\n",
    "import pathlib\n",
    "import numpy as np\n",
    "import matplotlib.pyplot as plt\n",
    "from PIL import Image\n",
    "\n",
    "from cementum import processing\n",
    "\n",
    "train_size = (320, 320)\n",
    "\n",
    "train_paths = tuple(pathlib.Path(\"../data/images\").glob(r\"?.jpg\"))\n",
    "full_size_images = [Image.open(str(path)) for path in train_paths]\n",
    "training_images = [processing.resize(image, train_size) for image in full_size_images]\n",
    "\n",
    "mask_paths = tuple(pathlib.Path(\"../data/masks\").glob(r\"?.jpg\"))\n",
    "training_masks = [\n",
    "    processing.resize(Image.open(str(path)), train_size) for path in mask_paths\n",
    "]"
   ]
  },
  {
   "cell_type": "code",
   "execution_count": null,
   "metadata": {},
   "outputs": [],
   "source": [
    "fig, axes = plt.subplots(1, 2)\n",
    "axes[0].imshow(training_images[0])\n",
    "axes[1].imshow(training_masks[0])\n",
    "\n",
    "for axis, title in zip(axes, (\"Image\", \"Mask\")):\n",
    "    axis.axis(\"off\")\n",
    "    axis.set_title(title)"
   ]
  },
  {
   "cell_type": "code",
   "execution_count": null,
   "metadata": {},
   "outputs": [],
   "source": [
    "\"\"\"\n",
    "Encode the labels and add this label to the data in the model; also compute class weights\n",
    "\n",
    "\"\"\""
   ]
  },
  {
   "cell_type": "code",
   "execution_count": null,
   "metadata": {},
   "outputs": [],
   "source": [
    "\"\"\"\n",
    "Train the model\n",
    "\n",
    "\"\"\""
   ]
  },
  {
   "cell_type": "code",
   "execution_count": null,
   "metadata": {},
   "outputs": [],
   "source": [
    "\"\"\"\n",
    "Plot the loss and validation accuracy at each epoch\n",
    "\n",
    "\"\"\""
   ]
  },
  {
   "cell_type": "code",
   "execution_count": null,
   "metadata": {},
   "outputs": [],
   "source": [
    "\"\"\"\n",
    "Calculate intersection over union for each class\n",
    "\n",
    "\"\"\""
   ]
  },
  {
   "cell_type": "code",
   "execution_count": null,
   "metadata": {},
   "outputs": [],
   "source": [
    "\"\"\"\n",
    "Apply to one of the large images\n",
    "\n",
    "\"\"\""
   ]
  }
 ],
 "metadata": {
  "kernelspec": {
   "display_name": "cementum",
   "language": "python",
   "name": "python3"
  },
  "language_info": {
   "codemirror_mode": {
    "name": "ipython",
    "version": 3
   },
   "file_extension": ".py",
   "mimetype": "text/x-python",
   "name": "python",
   "nbconvert_exporter": "python",
   "pygments_lexer": "ipython3",
   "version": "3.11.6"
  }
 },
 "nbformat": 4,
 "nbformat_minor": 2
}
